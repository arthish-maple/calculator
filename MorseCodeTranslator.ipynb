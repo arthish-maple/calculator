{
  "nbformat": 4,
  "nbformat_minor": 0,
  "metadata": {
    "colab": {
      "provenance": [],
      "authorship_tag": "ABX9TyNhaExpLN2AMeX9F565rjPq",
      "include_colab_link": true
    },
    "kernelspec": {
      "name": "python3",
      "display_name": "Python 3"
    },
    "language_info": {
      "name": "python"
    }
  },
  "cells": [
    {
      "cell_type": "markdown",
      "metadata": {
        "id": "view-in-github",
        "colab_type": "text"
      },
      "source": [
        "<a href=\"https://colab.research.google.com/github/arthish-maple/calculator/blob/main/MorseCodeTranslator.ipynb\" target=\"_parent\"><img src=\"https://colab.research.google.com/assets/colab-badge.svg\" alt=\"Open In Colab\"/></a>"
      ]
    },
    {
      "cell_type": "code",
      "execution_count": 1,
      "metadata": {
        "colab": {
          "base_uri": "https://localhost:8080/"
        },
        "id": "n23ajRsnMXMq",
        "outputId": "b7b154bf-441a-4945-cef1-66b8a328c92f"
      },
      "outputs": [
        {
          "output_type": "stream",
          "name": "stdout",
          "text": [
            "Type your sentence.- .- .-. - .... .. ... ....  .. ...  ... .-.. . . .--. .. -. --.\n",
            "do you want to Encode / Decodedecode\n",
            "AARTHISH IS SLEEPING\n"
          ]
        }
      ],
      "source": [
        "#Dictionary  morse code\n",
        "MORSE_CODE_DICT = { 'A':'.-', 'B':'-...',\n",
        "                    'C':'-.-.', 'D':'-..', 'E':'.',\n",
        "                    'F':'..-.', 'G':'--.', 'H':'....',\n",
        "                    'I':'..', 'J':'.---', 'K':'-.-',\n",
        "                    'L':'.-..', 'M':'--', 'N':'-.',\n",
        "                    'O':'---', 'P':'.--.', 'Q':'--.-',\n",
        "                    'R':'.-.', 'S':'...', 'T':'-',\n",
        "                    'U':'..-', 'V':'...-', 'W':'.--',\n",
        "                    'X':'-..-', 'Y':'-.--', 'Z':'--..',\n",
        "                    '1':'.----', '2':'..---', '3':'...--',\n",
        "                    '4':'....-', '5':'.....', '6':'-....',\n",
        "                    '7':'--...', '8':'---..', '9':'----.',\n",
        "                    '0':'-----', ', ':'--..--', '.':'.-.-.-',\n",
        "                    '?':'..--..', '/':'-..-.', '-':'-....-',\n",
        "                    '(':'-.--.', ')':'-.--.-'}\n",
        "\n",
        "# Function to encrypt the string\n",
        "# according to the morse code chart\n",
        "def encrypt(message):\n",
        "    cipher = ''\n",
        "    for letter in message:\n",
        "        if letter != ' ':\n",
        "\n",
        "\n",
        "            cipher += MORSE_CODE_DICT[letter] + ' '\n",
        "        else:\n",
        "\n",
        "            cipher += ' '\n",
        "\n",
        "    return cipher\n",
        "\n",
        "\n",
        "def decrypt(message):\n",
        "\n",
        "    # extra space added at the end to access the\n",
        "    # last morse code\n",
        "    message += ' '\n",
        "\n",
        "    decipher = ''\n",
        "    stext = ''\n",
        "    for letter in message:\n",
        "\n",
        "\n",
        "        if (letter != ' '):\n",
        "\n",
        "            i = 0\n",
        "\n",
        "            stext += letter\n",
        "\n",
        "\n",
        "        else:\n",
        "\n",
        "            i += 1\n",
        "\n",
        "            if i == 2 :\n",
        "\n",
        "\n",
        "                decipher += ' '\n",
        "            else:\n",
        "\n",
        "\n",
        "                decipher += list(MORSE_CODE_DICT.keys())[list(MORSE_CODE_DICT\n",
        "                .values()).index(stext)]\n",
        "                stext = ''\n",
        "\n",
        "    return decipher\n",
        "\n",
        "\n",
        "message = input(\"Type your sentence\").upper()\n",
        "user_request = input(\"do you want to Encode / Decode\").lower()\n",
        "\n",
        "if user_request == 'decode':\n",
        "  result = decrypt(message)\n",
        "  print (result)\n",
        "elif user_request == 'encode':\n",
        "  result = encrypt(message)\n",
        "  print (result)"
      ]
    }
  ]
}