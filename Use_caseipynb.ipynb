{
  "nbformat": 4,
  "nbformat_minor": 0,
  "metadata": {
    "colab": {
      "provenance": [],
      "authorship_tag": "ABX9TyONaJF3NwidfslSvTn0f3O1",
      "include_colab_link": true
    },
    "kernelspec": {
      "name": "python3",
      "display_name": "Python 3"
    },
    "language_info": {
      "name": "python"
    }
  },
  "cells": [
    {
      "cell_type": "markdown",
      "metadata": {
        "id": "view-in-github",
        "colab_type": "text"
      },
      "source": [
        "<a href=\"https://colab.research.google.com/github/arthish-maple/calculator/blob/main/Use_caseipynb.ipynb\" target=\"_parent\"><img src=\"https://colab.research.google.com/assets/colab-badge.svg\" alt=\"Open In Colab\"/></a>"
      ]
    },
    {
      "cell_type": "code",
      "execution_count": null,
      "metadata": {
        "colab": {
          "base_uri": "https://localhost:8080/"
        },
        "id": "Zh_QOthl7Ckb",
        "outputId": "83dcc471-d49b-4b59-9ecf-be632aad96ae"
      },
      "outputs": [
        {
          "output_type": "stream",
          "name": "stdout",
          "text": [
            "20\n",
            "choose given operators : + , - , / , x\n",
            "select the operator to proceed *\n",
            "3\n",
            "60\n",
            "proceed to calculate YES/NOyes\n",
            "choose given operators : + , - , / , x\n",
            "select the operator to proceed *\n",
            "2\n",
            "120\n",
            "proceed to calculate YES/NOyes\n",
            "choose given operators : + , - , / , x\n",
            "select the operator to proceed +\n",
            "500\n",
            "620\n",
            "proceed to calculate YES/NOyes\n",
            "choose given operators : + , - , / , x\n",
            "select the operator to proceed -\n",
            "200\n",
            "420\n",
            "proceed to calculate YES/NOyes\n",
            "choose given operators : + , - , / , x\n",
            "select the operator to proceed /\n",
            "2\n",
            "210.0\n",
            "proceed to calculate YES/NOno\n",
            "DONE\n"
          ]
        }
      ],
      "source": [
        "#calculator\n",
        "\n",
        "#function\n",
        "\n",
        "def addition (a,b):\n",
        "  return(a+b)\n",
        "\n",
        "def multiplication (a,b):\n",
        "  return(a*b)\n",
        "\n",
        "def subtraction (a,b):\n",
        "  return(a-b)\n",
        "\n",
        "def division (a,b):\n",
        "  return(a/b)\n",
        "\n",
        "\n",
        "num1 = int(input())\n",
        "result = 0\n",
        "proceed_calculation = True\n",
        "\n",
        "while proceed_calculation:\n",
        "  print(\"choose given operators : + , - , / , *\")\n",
        "  operation = input(\"select the operator to proceed \")\n",
        "  num2 = int(input())\n",
        "\n",
        "  if operation == '+':\n",
        "    result = addition(num1,num2)\n",
        "    print(result)\n",
        "\n",
        "  elif operation == '-':\n",
        "    result = subtraction(num1,num2)\n",
        "    print(result)\n",
        "\n",
        "  elif operation == '/' :\n",
        "    result = division(num1,num2)\n",
        "    print(result)\n",
        "\n",
        "  elif operation == '*':\n",
        "    result = multiplication (num1,num2)\n",
        "    print(result)\n",
        "\n",
        "  else:\n",
        "    print(\"Error not a given operator\")\n",
        "\n",
        "  proceed_calculation = input(\"proceed to calculate YES/NO \\n\").upper()\n",
        "  if proceed_calculation ==\"YES\":\n",
        "    num1 = result\n",
        "    proceed_calculation = True\n",
        "  else:\n",
        "    proceed_calculation = False\n",
        "    print(\"DONE\")\n",
        "\n",
        "\n",
        "\n",
        "\n",
        "\n",
        "\n",
        "\n"
      ]
    },
    {
      "cell_type": "code",
      "source": [
        "#Dictionary  morse code\n",
        "MORSE_CODE_DICT = { 'A':'.-', 'B':'-...',\n",
        "                    'C':'-.-.', 'D':'-..', 'E':'.',\n",
        "                    'F':'..-.', 'G':'--.', 'H':'....',\n",
        "                    'I':'..', 'J':'.---', 'K':'-.-',\n",
        "                    'L':'.-..', 'M':'--', 'N':'-.',\n",
        "                    'O':'---', 'P':'.--.', 'Q':'--.-',\n",
        "                    'R':'.-.', 'S':'...', 'T':'-',\n",
        "                    'U':'..-', 'V':'...-', 'W':'.--',\n",
        "                    'X':'-..-', 'Y':'-.--', 'Z':'--..',\n",
        "                    '1':'.----', '2':'..---', '3':'...--',\n",
        "                    '4':'....-', '5':'.....', '6':'-....',\n",
        "                    '7':'--...', '8':'---..', '9':'----.',\n",
        "                    '0':'-----', ', ':'--..--', '.':'.-.-.-',\n",
        "                    '?':'..--..', '/':'-..-.', '-':'-....-',\n",
        "                    '(':'-.--.', ')':'-.--.-'}\n",
        "\n",
        "# Function to encrypt the string\n",
        "# according to the morse code chart\n",
        "def encrypt(message):\n",
        "    cipher = ''\n",
        "    for letter in message:\n",
        "        if letter != ' ':\n",
        "\n",
        "\n",
        "            cipher += MORSE_CODE_DICT[letter] + ' '\n",
        "        else:\n",
        "\n",
        "            cipher += ' '\n",
        "\n",
        "    return cipher\n",
        "\n",
        "\n",
        "def decrypt(message):\n",
        "\n",
        "    # extra space added at the end to access the\n",
        "    # last morse code\n",
        "    message += ' '\n",
        "\n",
        "    decipher = ''\n",
        "    stext = ''\n",
        "    for letter in message:\n",
        "\n",
        "\n",
        "        if (letter != ' '):\n",
        "\n",
        "            i = 0\n",
        "\n",
        "            stext += letter\n",
        "\n",
        "\n",
        "        else:\n",
        "\n",
        "            i += 1\n",
        "\n",
        "            if i == 2 :\n",
        "\n",
        "\n",
        "                decipher += ' '\n",
        "            else:\n",
        "\n",
        "\n",
        "                decipher += list(MORSE_CODE_DICT.keys())[list(MORSE_CODE_DICT\n",
        "                .values()).index(stext)]\n",
        "                stext = ''\n",
        "\n",
        "    return decipher\n",
        "\n",
        "\n",
        "message = input(\"Type your sentence\").upper()\n",
        "user_request = input(\"do you want to Encode / Decode\").lower()\n",
        "\n",
        "if user_request == 'decode':\n",
        "  result = decrypt(message)\n",
        "  print (result)\n",
        "elif user_request == 'encode':\n",
        "  result = encrypt(message)\n",
        "  print (result)\n",
        "\n",
        "\n"
      ],
      "metadata": {
        "colab": {
          "base_uri": "https://localhost:8080/"
        },
        "id": "e6SDr4Tb9UQM",
        "outputId": "5c357d22-c70e-4ad9-d8fe-8af45083b980"
      },
      "execution_count": null,
      "outputs": [
        {
          "output_type": "stream",
          "name": "stdout",
          "text": [
            "Type your sentence.- .- .-. - .... .. ... ....  .. ...  ... .-.. . . .--. .. -. --.\n",
            "do you want to Encode / Decodedecode\n",
            "AARTHISH IS SLEEPING\n"
          ]
        }
      ]
    },
    {
      "cell_type": "code",
      "source": [
        "# Function to encrypt the string\n",
        "# according to the morse code chart\n",
        "\n",
        "# Looks up the dictionary and adds the\n",
        "# corresponding morse code\n",
        "# along with a space to separate\n",
        "# morse codes for different characters\n",
        "\n",
        "# 1 space indicates different characters\n",
        "# and 2 indicates different words\n",
        "\n",
        "\n",
        "\n",
        "# Function to decrypt the string\n",
        "# from morse to english\n",
        "\n",
        "# extra space added at the end to access the\n",
        "# last morse code\n",
        "\n",
        "# checks for space\n",
        "\n",
        "# counter to keep track of space\n",
        "# storing morse code of a single character\n",
        "\n",
        " # in case of space\n",
        "# if i = 1 that indicates a new character\n",
        "#if i = 2 that indicates a new word\n",
        "# adding space to separate words\n",
        "\n",
        "# accessing the keys using their values"
      ],
      "metadata": {
        "id": "lvAalxZ4JCIF"
      },
      "execution_count": 1,
      "outputs": []
    },
    {
      "cell_type": "code",
      "source": [
        "import re\n",
        "def fun(s):\n",
        "    # return True if s is a valid email, else return False\n",
        "    # Regular expression for validating an Email\n",
        "    regex = r'[-\\w]+@[a-zA-Z0-9]+\\.[a-zA-Z]{1,3}'\n",
        "\n",
        "    # If the string matches the regex, it is a valid email\n",
        "    return re.fullmatch(regex, s)\n",
        "\n",
        "def filter_mail(emails):\n",
        "    return list(filter(fun, emails))\n",
        "\n",
        "\n",
        "#n = \"aarthish24official@hacker.com\"\n",
        "emails = [\"3\",\"despo.org\",\"anime.\",\"sachu@gmail.com\",\"aarthish24official@hacker.com\"]\n",
        "#for _ in range(n):\n",
        "  #emails.append(input())\n",
        "\n",
        "filtered_emails = filter_mail(emails)\n",
        "filtered_emails.sort()\n",
        "print(filtered_emails)"
      ],
      "metadata": {
        "colab": {
          "base_uri": "https://localhost:8080/"
        },
        "id": "oN2Ie41AIZpJ",
        "outputId": "bfcdcebe-293f-4c79-b858-7100876d4849"
      },
      "execution_count": 2,
      "outputs": [
        {
          "output_type": "stream",
          "name": "stdout",
          "text": [
            "['aarthish24official@hacker.com', 'sachu@gmail.com']\n"
          ]
        }
      ]
    }
  ]
}